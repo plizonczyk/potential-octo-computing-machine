{
 "cells": [
  {
   "cell_type": "markdown",
   "metadata": {},
   "source": [
    "Problem: wybór kandydata na prezesa.\n",
    "![Image 1](https://upload.wikimedia.org/wikipedia/commons/6/64/AHP_TDHBiographies.png)"
   ]
  },
  {
   "cell_type": "markdown",
   "metadata": {},
   "source": [
    "Rozbicie problemu:\n",
    "![Image 2](https://upload.wikimedia.org/wikipedia/commons/e/eb/AHP_TDHHierarchyBasic.png)"
   ]
  },
  {
   "cell_type": "markdown",
   "metadata": {},
   "source": [
    "Skala porównań:\n",
    "![Image 3](https://upload.wikimedia.org/wikipedia/commons/f/f4/AHPFundamentalScaleModerately.png)"
   ]
  },
  {
   "cell_type": "code",
   "execution_count": 1,
   "metadata": {
    "collapsed": false
   },
   "outputs": [],
   "source": [
    "from ahp import AHP\n",
    "ahp = AHP()\n",
    "result = ahp.run()"
   ]
  },
  {
   "cell_type": "markdown",
   "metadata": {},
   "source": [
    "#  Wyniki porównań kandydatów względem kryteriów"
   ]
  },
  {
   "cell_type": "markdown",
   "metadata": {},
   "source": [
    "![Image 4](https://upload.wikimedia.org/wikipedia/commons/3/32/AHP_TDHExperienceMatrixWPriorities.png)"
   ]
  },
  {
   "cell_type": "code",
   "execution_count": 2,
   "metadata": {
    "collapsed": false
   },
   "outputs": [
    {
     "name": "stdout",
     "output_type": "stream",
     "text": [
      "[[ 1.       0.25     4.     ]\n",
      " [ 4.       1.       9.     ]\n",
      " [ 0.25     0.11111  1.     ]]\n",
      "[ 0.21716558  0.71706531  0.0657691 ]\n"
     ]
    }
   ],
   "source": [
    "print(ahp.judgements['experience'])\n",
    "print(ahp.judgements_eig['experience'])"
   ]
  },
  {
   "cell_type": "markdown",
   "metadata": {},
   "source": [
    "![Image 5](https://upload.wikimedia.org/wikipedia/commons/e/ea/AHP_TDHEducationMatrixWPriorities.png)"
   ]
  },
  {
   "cell_type": "code",
   "execution_count": 3,
   "metadata": {
    "collapsed": false
   },
   "outputs": [
    {
     "name": "stdout",
     "output_type": "stream",
     "text": [
      "[[ 1.       3.       0.2    ]\n",
      " [ 0.33333  1.       0.14286]\n",
      " [ 5.       7.       1.     ]]\n",
      "[ 0.18839415  0.08096168  0.73064418]\n"
     ]
    }
   ],
   "source": [
    "print(ahp.judgements['education'])\n",
    "print(ahp.judgements_eig['education'])"
   ]
  },
  {
   "cell_type": "markdown",
   "metadata": {},
   "source": [
    "![Image 6](https://upload.wikimedia.org/wikipedia/commons/d/dc/AHP_TDHCharismaMatrixWPriorities.png)"
   ]
  },
  {
   "cell_type": "code",
   "execution_count": 4,
   "metadata": {
    "collapsed": false
   },
   "outputs": [
    {
     "name": "stdout",
     "output_type": "stream",
     "text": [
      "[[ 1.       5.       9.     ]\n",
      " [ 0.2      1.       4.     ]\n",
      " [ 0.11111  0.25     1.     ]]\n",
      "[ 0.74286693  0.19388158  0.06325149]\n"
     ]
    }
   ],
   "source": [
    "print(ahp.judgements['charisma'])\n",
    "print(ahp.judgements_eig['charisma'])"
   ]
  },
  {
   "cell_type": "markdown",
   "metadata": {},
   "source": [
    "![Image 7](https://upload.wikimedia.org/wikipedia/commons/d/d8/AHP_TDHAgeMatrixWPriorities.png)"
   ]
  },
  {
   "cell_type": "code",
   "execution_count": 5,
   "metadata": {
    "collapsed": false
   },
   "outputs": [
    {
     "name": "stdout",
     "output_type": "stream",
     "text": [
      "[[ 1.       0.33333  5.     ]\n",
      " [ 3.       1.       9.     ]\n",
      " [ 0.2      0.11111  1.     ]]\n",
      "[ 0.26543282  0.67162615  0.06294103]\n"
     ]
    }
   ],
   "source": [
    "print(ahp.judgements['age'])\n",
    "print(ahp.judgements_eig['age'])"
   ]
  },
  {
   "cell_type": "markdown",
   "metadata": {},
   "source": [
    "# Wyniki porównań kryteriów"
   ]
  },
  {
   "cell_type": "markdown",
   "metadata": {},
   "source": [
    "![Image 8](https://upload.wikimedia.org/wikipedia/commons/d/d5/AHP_TDHCriteriaMatrixWPriorities.png)"
   ]
  },
  {
   "cell_type": "code",
   "execution_count": 6,
   "metadata": {
    "collapsed": false
   },
   "outputs": [
    {
     "name": "stdout",
     "output_type": "stream",
     "text": [
      "[[ 0.       4.       3.       7.     ]\n",
      " [ 0.25     0.       0.33333  3.     ]\n",
      " [ 0.33333  3.       0.       5.     ]\n",
      " [ 0.14286  0.33333  0.2      0.     ]]\n",
      "[ 0.54756929  0.12655521  0.26994963  0.05592587]\n"
     ]
    }
   ],
   "source": [
    "print(ahp.criteria)\n",
    "print(ahp.criteria_eig)"
   ]
  },
  {
   "cell_type": "markdown",
   "metadata": {},
   "source": [
    "# Wyniki"
   ]
  },
  {
   "cell_type": "markdown",
   "metadata": {},
   "source": [
    "![Results](https://upload.wikimedia.org/wikipedia/commons/3/32/AHP_TDHCalculations2.png)"
   ]
  },
  {
   "cell_type": "code",
   "execution_count": 7,
   "metadata": {
    "collapsed": false
   },
   "outputs": [
    {
     "name": "stdout",
     "output_type": "stream",
     "text": [
      "{'Dick': 0.49278860360560528, 'Tom': 0.35813668326970488, 'Harry': 0.14907471312468987}\n"
     ]
    }
   ],
   "source": [
    "print(ahp.scores)"
   ]
  },
  {
   "cell_type": "markdown",
   "metadata": {},
   "source": [
    "**Wygrywa Dick**"
   ]
  },
  {
   "cell_type": "code",
   "execution_count": null,
   "metadata": {
    "collapsed": true
   },
   "outputs": [],
   "source": []
  }
 ],
 "metadata": {
  "kernelspec": {
   "display_name": "Python 3",
   "language": "python",
   "name": "python3"
  },
  "language_info": {
   "codemirror_mode": {
    "name": "ipython",
    "version": 3
   },
   "file_extension": ".py",
   "mimetype": "text/x-python",
   "name": "python",
   "nbconvert_exporter": "python",
   "pygments_lexer": "ipython3",
   "version": "3.5.2+"
  }
 },
 "nbformat": 4,
 "nbformat_minor": 0
}
